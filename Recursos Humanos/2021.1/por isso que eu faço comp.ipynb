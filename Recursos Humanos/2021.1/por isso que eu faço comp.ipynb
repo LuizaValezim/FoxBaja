{
 "cells": [
  {
   "cell_type": "code",
   "execution_count": 2,
   "metadata": {},
   "outputs": [
    {
     "output_type": "error",
     "ename": "ModuleNotFoundError",
     "evalue": "No module named 'pandas'",
     "traceback": [
      "\u001b[1;31m---------------------------------------------------------------------------\u001b[0m",
      "\u001b[1;31mModuleNotFoundError\u001b[0m                       Traceback (most recent call last)",
      "\u001b[1;32m<ipython-input-2-830bc8835443>\u001b[0m in \u001b[0;36m<module>\u001b[1;34m\u001b[0m\n\u001b[0;32m      2\u001b[0m \u001b[0mget_ipython\u001b[0m\u001b[1;33m(\u001b[0m\u001b[1;33m)\u001b[0m\u001b[1;33m.\u001b[0m\u001b[0mrun_line_magic\u001b[0m\u001b[1;33m(\u001b[0m\u001b[1;34m'matplotlib'\u001b[0m\u001b[1;33m,\u001b[0m \u001b[1;34m'inline'\u001b[0m\u001b[1;33m)\u001b[0m\u001b[1;33m\u001b[0m\u001b[1;33m\u001b[0m\u001b[0m\n\u001b[0;32m      3\u001b[0m \u001b[1;33m\u001b[0m\u001b[0m\n\u001b[1;32m----> 4\u001b[1;33m \u001b[1;32mimport\u001b[0m \u001b[0mpandas\u001b[0m \u001b[1;32mas\u001b[0m \u001b[0mpd\u001b[0m\u001b[1;33m\u001b[0m\u001b[1;33m\u001b[0m\u001b[0m\n\u001b[0m\u001b[0;32m      5\u001b[0m \u001b[1;33m\u001b[0m\u001b[0m\n\u001b[0;32m      6\u001b[0m \u001b[1;32mimport\u001b[0m \u001b[0mmatplotlib\u001b[0m\u001b[1;33m.\u001b[0m\u001b[0mpyplot\u001b[0m \u001b[1;32mas\u001b[0m \u001b[0mplt\u001b[0m\u001b[1;33m\u001b[0m\u001b[1;33m\u001b[0m\u001b[0m\n",
      "\u001b[1;31mModuleNotFoundError\u001b[0m: No module named 'pandas'"
     ]
    }
   ],
   "source": [
    "# Importanto as bibliotecas\n",
    "%matplotlib inline\n",
    "\n",
    "import pandas as pd\n",
    "\n",
    "import matplotlib.pyplot as plt\n",
    "import numpy as np\n",
    "import os\n",
    "\n",
    "from IPython.display import display"
   ]
  },
  {
   "cell_type": "code",
   "execution_count": 1,
   "metadata": {},
   "outputs": [
    {
     "output_type": "stream",
     "name": "stdout",
     "text": [
      "Encontrei o arquivo Avaliação 360.xlsx, tudo certo para prosseguir!\n"
     ]
    }
   ],
   "source": [
    "# Verificando a localização do arquivo\n",
    "filename = 'Avaliação 360.xlsx'\n",
    "if filename in os.listdir():\n",
    "    print(f'Encontrei o arquivo {filename}, tudo certo para prosseguir!')\n",
    "else:\n",
    "    print(f'Não encontrei o arquivo {filename} aqui no diretório {os.getcwd()} :(')"
   ]
  },
  {
   "cell_type": "code",
   "execution_count": null,
   "metadata": {},
   "outputs": [],
   "source": [
    "# Lendo o arquivo Excel\n",
    "avaliacao = pd.read_excel(filename)\n",
    "copia = pd.read_excel(filename)\n",
    "avaliacao = avaliacao.replace(np.nan,'nada')"
   ]
  },
  {
   "cell_type": "code",
   "execution_count": null,
   "metadata": {},
   "outputs": [],
   "source": [
    "# Retirando as colunas desnecessárias que são padrão do Qualtrics\n",
    "avaliacao.drop(avaliacao.iloc[:, 0:17], inplace = True, axis = 1)\n",
    "avaliacao"
   ]
  },
  {
   "cell_type": "code",
   "execution_count": null,
   "metadata": {},
   "outputs": [],
   "source": [
    "# Divindo por dataframes os subsistemas\n",
    "captacao = avaliacao.loc[avaliacao['1'] == 'Captação']\n",
    "chassi = avaliacao.loc[avaliacao['1'] == 'Chassi']\n",
    "eletronica = avaliacao.loc[avaliacao['1'] == 'Eletrônica']\n",
    "freio = avaliacao.loc[avaliacao['1'] == 'Freio']\n",
    "ger_dir_cap = avaliacao.loc[avaliacao['1'] == 'Gerência / Diretoria / Capitão']\n",
    "motor = avaliacao.loc[avaliacao['1'] == 'M&T']\n",
    "midias = avaliacao.loc[avaliacao['1'] == 'Mídias']\n",
    "produtos = avaliacao.loc[avaliacao['1'] == 'Produtos']\n",
    "rh = avaliacao.loc[avaliacao['1'] == 'RH']\n",
    "suspensao = avaliacao.loc[avaliacao['1'] == 'Susp&Dir']\n",
    "\n",
    "subsistemas = [captacao, chassi, eletronica, freio, ger_dir_cap, motor, midias, produtos, rh, suspensao]"
   ]
  },
  {
   "cell_type": "code",
   "execution_count": null,
   "metadata": {},
   "outputs": [],
   "source": [
    "# Apagando as colunas desnecessárias\n",
    "listas_colunas_excluir = []\n",
    "\n",
    "for subsistema in subsistemas:\n",
    "    lista_colunas = list(subsistema.columns)\n",
    "    \n",
    "    excluir = []\n",
    "    \n",
    "    for coluna in lista_colunas:\n",
    "        linhas_vazias = subsistema.loc[subsistema[coluna] == 'nada'].shape[0]\n",
    "        linhas_totais = subsistema.shape[0]\n",
    "        if linhas_vazias == linhas_totais:\n",
    "            excluir.append(coluna)\n",
    "    listas_colunas_excluir.append(excluir)\n",
    "    \n",
    "captacao = captacao.drop(listas_colunas_excluir[0], axis=1)\n",
    "chassi = chassi.drop(listas_colunas_excluir[1], axis=1)\n",
    "eletronica = eletronica.drop(listas_colunas_excluir[2], axis=1)\n",
    "freio = freio.drop(listas_colunas_excluir[3], axis=1)\n",
    "ger_dir_cap = ger_dir_cap.drop(listas_colunas_excluir[4], axis=1)\n",
    "motor = motor.drop(listas_colunas_excluir[5], axis=1)\n",
    "midias = midias.drop(listas_colunas_excluir[6], axis=1)\n",
    "produtos = produtos.drop(listas_colunas_excluir[7], axis=1)\n",
    "rh = rh.drop(listas_colunas_excluir[8], axis=1)\n",
    "suspensao = suspensao.drop(listas_colunas_excluir[9], axis=1)"
   ]
  },
  {
   "cell_type": "code",
   "execution_count": null,
   "metadata": {},
   "outputs": [],
   "source": [
    "# Apagando as linhas desnecessárias\n",
    "\n",
    "# se o número de linhas vazias for mais do que metade do forms, apagar a linha"
   ]
  },
  {
   "cell_type": "code",
   "execution_count": null,
   "metadata": {},
   "outputs": [],
   "source": [
    "# Renomeando as colunas principais\n",
    "captacao = captacao.rename(columns={ captacao.columns[0]: \"Subsistema\", captacao.columns[1]: \"MembroAvaliador\", captacao.columns[2]: \"MembroAvaliado\" })\n",
    "chassi = chassi.rename(columns={ chassi.columns[0]: \"Subsistema\", chassi.columns[1]: \"MembroAvaliador\", chassi.columns[2]: \"MembroAvaliado\" })\n",
    "eletronica = eletronica.rename(columns={ eletronica.columns[0]: \"Subsistema\", eletronica.columns[1]: \"MembroAvaliador\", eletronica.columns[2]: \"MembroAvaliado\" })\n",
    "freio = freio.rename(columns={ freio.columns[0]: \"Subsistema\", freio.columns[1]: \"MembroAvaliador\", freio.columns[2]: \"MembroAvaliado\" })\n",
    "ger_dir_cap = ger_dir_cap.rename(columns={ ger_dir_cap.columns[0]: \"Subsistema\", ger_dir_cap.columns[1]: \"MembroAvaliador\", ger_dir_cap.columns[2]: \"MembroAvaliado\" })\n",
    "motor = motor.rename(columns={ motor.columns[0]: \"Subsistema\", motor.columns[1]: \"MembroAvaliador\", motor.columns[2]: \"MembroAvaliado\" })\n",
    "midias = midias.rename(columns={ midias.columns[0]: \"Subsistema\", midias.columns[1]: \"MembroAvaliador\", midias.columns[2]: \"MembroAvaliado\" })\n",
    "produtos = produtos.rename(columns={ produtos.columns[0]: \"Subsistema\", produtos.columns[1]: \"MembroAvaliador\", produtos.columns[2]: \"MembroAvaliado\" })\n",
    "rh = rh.rename(columns={ rh.columns[0]: \"Subsistema\", rh.columns[1]: \"MembroAvaliador\", rh.columns[2]: \"MembroAvaliado\" })\n",
    "suspensao = suspensao.rename(columns={ suspensao.columns[0]: \"Subsistema\", suspensao.columns[1]: \"MembroAvaliador\", suspensao.columns[2]: \"MembroAvaliado\" })"
   ]
  },
  {
   "cell_type": "code",
   "execution_count": null,
   "metadata": {},
   "outputs": [],
   "source": [
    "# Divindindo as notas por pessoas em listas\n",
    "\n",
    "# Fazer um dicionário com: avaliacao_fulano = ['nome': [fulano], autoavaliaco [1,2,3,4,5], medias [5,4,3,2,1]]\n",
    "\n",
    "for linha in range(subsistema.shape[0]):\n",
    "        # Vendo a autoavaliação\n",
    "        nome = subsistema.MembroAvaliado[linha]\n",
    "        autoavaliacao = []\n",
    "        media = []\n",
    "        for i in subsistema.columns:\n",
    "            if subsistema.MembroAvaliador[linha] == subsistema.MembroAvaliado[linha]:\n",
    "                autoavaliacao.append(subsistema.Membro)"
   ]
  },
  {
   "cell_type": "code",
   "execution_count": null,
   "metadata": {},
   "outputs": [],
   "source": []
  },
  {
   "cell_type": "code",
   "execution_count": null,
   "metadata": {},
   "outputs": [],
   "source": []
  }
 ],
 "metadata": {
  "kernelspec": {
   "name": "python3",
   "display_name": "Python 3.7.10 64-bit ('robotica': conda)"
  },
  "language_info": {
   "codemirror_mode": {
    "name": "ipython",
    "version": 3
   },
   "file_extension": ".py",
   "mimetype": "text/x-python",
   "name": "python",
   "nbconvert_exporter": "python",
   "pygments_lexer": "ipython3",
   "version": "3.7.10"
  },
  "interpreter": {
   "hash": "6c332efdb08437237d77d5b12ce21367722491b42bc4262a0e09a53a103277d6"
  }
 },
 "nbformat": 4,
 "nbformat_minor": 4
}